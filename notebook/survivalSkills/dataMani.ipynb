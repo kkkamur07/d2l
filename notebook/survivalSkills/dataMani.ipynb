{
 "cells": [
  {
   "cell_type": "code",
   "execution_count": 1,
   "id": "9af22ed8",
   "metadata": {},
   "outputs": [],
   "source": [
    "import torch"
   ]
  },
  {
   "cell_type": "markdown",
   "id": "71ed0bf5",
   "metadata": {},
   "source": [
    "Tensors\n",
    "- 1D : Vectors \n",
    "- 2D : Matrix\n",
    "- K > 2 : $k_{th}$ order tensor\n",
    "\n",
    "Benefits of using are clear : \n",
    "- Supports automatic differentiation\n",
    "- GPU accelerated"
   ]
  },
  {
   "cell_type": "code",
   "execution_count": 2,
   "id": "e5d6b571",
   "metadata": {},
   "outputs": [
    {
     "name": "stdout",
     "output_type": "stream",
     "text": [
      "Shape of the tensor : torch.Size([12])\n",
      "Reshaped tensor : tensor([[ 0.,  1.,  2.,  3.],\n",
      "        [ 4.,  5.,  6.,  7.],\n",
      "        [ 8.,  9., 10., 11.]])\n",
      "tensor([[ 0.,  1.,  2.,  3.],\n",
      "        [ 4.,  5.,  6.,  7.],\n",
      "        [ 8.,  9., 10., 11.]])\n"
     ]
    }
   ],
   "source": [
    "x = torch.arange(12, dtype=torch.float32)\n",
    "x.numel() # Number of elements in the tensor\n",
    "print(f\"Shape of the tensor : {x.shape}\")\n",
    "y = x.reshape(3,4)\n",
    "print(f\"Reshaped tensor : {y}\")\n",
    "\n",
    "# Complicated reshape\n",
    "x = x.reshape(-1, 4) # -1 means infer the size of that dimension with 4 columns\n",
    "print(f\"{x}\")"
   ]
  },
  {
   "cell_type": "code",
   "execution_count": 3,
   "id": "3f3b74de",
   "metadata": {},
   "outputs": [
    {
     "data": {
      "text/plain": [
       "tensor([[[-0.2067, -0.9582,  0.4294, -1.0971],\n",
       "         [ 0.4104,  1.4033,  0.3866,  1.5919],\n",
       "         [-1.8843,  0.4369,  1.4990, -1.6875]],\n",
       "\n",
       "        [[ 0.7495,  0.1277, -0.3730,  1.1108],\n",
       "         [ 0.6534,  0.4261, -0.4578,  0.2413],\n",
       "         [-0.2289,  0.1072, -1.1689, -0.1509]]])"
      ]
     },
     "execution_count": 3,
     "metadata": {},
     "output_type": "execute_result"
    }
   ],
   "source": [
    "# Initializing a tensor\n",
    "\n",
    "torch.zeros((2,3,4)) # 2*3*4 tensor of zeros\n",
    "torch.ones((2,3,4)) # 2*3*4 tensor of ones\n",
    "torch.randn((2,3,4)) # Random number from any distribution you want"
   ]
  },
  {
   "cell_type": "code",
   "execution_count": 4,
   "id": "9d866b82",
   "metadata": {},
   "outputs": [
    {
     "name": "stdout",
     "output_type": "stream",
     "text": [
      "Original tensor : tensor([[-0.0723,  1.1196,  1.5397],\n",
      "        [ 0.4552,  2.8176,  0.3035]])\n",
      "Original tensor : tensor([[ 0,  1,  2,  3],\n",
      "        [ 4,  5,  6,  7],\n",
      "        [ 8,  9, 10, 11]])\n"
     ]
    },
    {
     "data": {
      "text/plain": [
       "tensor([[  0, 100, 100,   3],\n",
       "        [  4,   5,   6,   7],\n",
       "        [  8,   9,  10,  11]])"
      ]
     },
     "execution_count": 4,
     "metadata": {},
     "output_type": "execute_result"
    }
   ],
   "source": [
    "# Indexing and slicing\n",
    "\n",
    "x = torch.randn((2,3))\n",
    "print(f\"Original tensor : {x}\")\n",
    "x[-1] # Last row\n",
    "x[:, -1] # Last column\n",
    "x[0, 1] # First row and second column\n",
    "\n",
    "# Assignment\n",
    "x[0,1] = 100\n",
    "x # Values have changed\n",
    "\n",
    "# Challenge\n",
    "x = torch.arange(12).reshape(3,4)\n",
    "print(f\"Original tensor : {x}\")\n",
    "x[0, 1:3] = 100 # 1:3 columns of the first row\n",
    "x"
   ]
  },
  {
   "cell_type": "code",
   "execution_count": 16,
   "id": "a324439f",
   "metadata": {},
   "outputs": [
    {
     "name": "stdout",
     "output_type": "stream",
     "text": [
      "Original tensor : tensor([[ 0,  1,  2,  3],\n",
      "        [ 4,  5,  6,  7],\n",
      "        [ 8,  9, 10, 11]])\n",
      "Exponential tensor : tensor([[1.0000e+00, 2.7183e+00, 7.3891e+00, 2.0086e+01],\n",
      "        [5.4598e+01, 1.4841e+02, 4.0343e+02, 1.0966e+03],\n",
      "        [2.9810e+03, 8.1031e+03, 2.2026e+04, 5.9874e+04]])\n"
     ]
    },
    {
     "data": {
      "text/plain": [
       "tensor(66)"
      ]
     },
     "execution_count": 16,
     "metadata": {},
     "output_type": "execute_result"
    }
   ],
   "source": [
    "# Operations : Element wise\n",
    "x = torch.arange(12).reshape(3,4)\n",
    "y = torch.exp(x)\n",
    "z = x/y\n",
    "\n",
    "print(f\"Original tensor : {x}\")\n",
    "print(f\"Exponential tensor : {y}\")\n",
    "\n",
    "# Concatenating : Axis 0/1 : Row/Column\n",
    "torch.cat((x, y), dim=0) # Concatenate along rows : Just added them below\n",
    "torch.cat((x,y), dim=1) # Concatenate along columns : Just added them to the right\n",
    "\n",
    "x.sum()"
   ]
  },
  {
   "cell_type": "code",
   "execution_count": 25,
   "id": "69490df0",
   "metadata": {},
   "outputs": [],
   "source": [
    "# Broadcasting : When the shapes of the tensors differ\n",
    "a = torch.arange(4).reshape(1,4)\n",
    "b = torch.arange(4).reshape(4,1)\n",
    "\n",
    "mem = a + b # First row added to the first column of b"
   ]
  },
  {
   "cell_type": "code",
   "execution_count": 34,
   "id": "0c338bcf",
   "metadata": {},
   "outputs": [
    {
     "name": "stdout",
     "output_type": "stream",
     "text": [
      "Before : 5635341472, After : 5635341472\n"
     ]
    }
   ],
   "source": [
    "# Saving Memory\n",
    "y = torch.arange(12).reshape(3,4)\n",
    "before = id(y)\n",
    "y = y + 1 # This will create a new tensor\n",
    "before, id(y) # Different memory locations\n",
    "\n",
    "# Every operation the memory changes \n",
    "# Problem : Run out of memory & Memory leak\n",
    "\n",
    "# Solution : Inplace operations\n",
    "z = torch.zeros_like(y)\n",
    "id_z = id(z)\n",
    "z[:] = y + 1 # This will not create a new tensor\n",
    "print(f\"Before : {id_z}, After : {id(z)}\") \n",
    "\n",
    "# Using z[:], we updated it in the same location"
   ]
  },
  {
   "cell_type": "code",
   "execution_count": 38,
   "id": "9b652852",
   "metadata": {},
   "outputs": [
    {
     "data": {
      "text/plain": [
       "(tensor([3.5000]), 3.5, 3.5, 3)"
      ]
     },
     "execution_count": 38,
     "metadata": {},
     "output_type": "execute_result"
    }
   ],
   "source": [
    "# Conversion\n",
    "x = torch.arange(12).reshape(3,4)\n",
    "y = x.numpy() # Convert to numpy\n",
    "\n",
    "type(x), type(y)\n",
    "\n",
    "# More \n",
    "a = torch.tensor([3.5])\n",
    "a, a.item(), float(a), int(a)\n"
   ]
  },
  {
   "cell_type": "code",
   "execution_count": 46,
   "id": "041d2605",
   "metadata": {},
   "outputs": [
    {
     "data": {
      "text/plain": [
       "tensor([[ 0,  2,  4,  6],\n",
       "        [ 4,  6,  8, 10],\n",
       "        [ 8, 10, 12, 14]])"
      ]
     },
     "execution_count": 46,
     "metadata": {},
     "output_type": "execute_result"
    }
   ],
   "source": [
    "# Question 1 \n",
    "x = torch.arange(12).reshape(3,4)\n",
    "y = torch.randn((3,4))\n",
    "\n",
    "x > y # We get the same tensor\n",
    "\n",
    "# Question 2\n",
    "x = torch.arange(12).reshape(3,4)\n",
    "y = torch.arange(4).reshape(1,4)\n",
    "\n",
    "x + y\n"
   ]
  },
  {
   "cell_type": "markdown",
   "id": "25823607",
   "metadata": {},
   "source": [
    "So basically in broadcasting, we expand the dimension to make it compatible like with 1 x 4 and 4 x 1 we expand both to 4 x 4 and using that we are doing <br>\n",
    "$matmul[i,j] = x[0,j] * y[i,0]$"
   ]
  },
  {
   "cell_type": "markdown",
   "id": "9f531569",
   "metadata": {},
   "source": [
    "### Data Preprocessing"
   ]
  },
  {
   "cell_type": "code",
   "execution_count": 52,
   "id": "be60839a",
   "metadata": {},
   "outputs": [
    {
     "data": {
      "text/html": [
       "<div>\n",
       "<style scoped>\n",
       "    .dataframe tbody tr th:only-of-type {\n",
       "        vertical-align: middle;\n",
       "    }\n",
       "\n",
       "    .dataframe tbody tr th {\n",
       "        vertical-align: top;\n",
       "    }\n",
       "\n",
       "    .dataframe thead th {\n",
       "        text-align: right;\n",
       "    }\n",
       "</style>\n",
       "<table border=\"1\" class=\"dataframe\">\n",
       "  <thead>\n",
       "    <tr style=\"text-align: right;\">\n",
       "      <th></th>\n",
       "      <th>NumRooms</th>\n",
       "      <th>RoofType</th>\n",
       "      <th>Price</th>\n",
       "    </tr>\n",
       "  </thead>\n",
       "  <tbody>\n",
       "    <tr>\n",
       "      <th>0</th>\n",
       "      <td>NaN</td>\n",
       "      <td>NaN</td>\n",
       "      <td>127500</td>\n",
       "    </tr>\n",
       "    <tr>\n",
       "      <th>1</th>\n",
       "      <td>2.0</td>\n",
       "      <td>NaN</td>\n",
       "      <td>106000</td>\n",
       "    </tr>\n",
       "    <tr>\n",
       "      <th>2</th>\n",
       "      <td>4.0</td>\n",
       "      <td>Slate</td>\n",
       "      <td>178100</td>\n",
       "    </tr>\n",
       "    <tr>\n",
       "      <th>3</th>\n",
       "      <td>NaN</td>\n",
       "      <td>NaN</td>\n",
       "      <td>140000</td>\n",
       "    </tr>\n",
       "  </tbody>\n",
       "</table>\n",
       "</div>"
      ],
      "text/plain": [
       "   NumRooms RoofType   Price\n",
       "0       NaN      NaN  127500\n",
       "1       2.0      NaN  106000\n",
       "2       4.0    Slate  178100\n",
       "3       NaN      NaN  140000"
      ]
     },
     "execution_count": 52,
     "metadata": {},
     "output_type": "execute_result"
    }
   ],
   "source": [
    "# Reading the dataset \n",
    "import pandas as pd\n",
    "path = \"/Users/krishuagarwal/Desktop/Programming/python/deep-learning/notebook/preprocessing.csv\"\n",
    "df = pd.read_csv(path)\n",
    "\n",
    "df"
   ]
  },
  {
   "cell_type": "code",
   "execution_count": 65,
   "id": "d08d94d0",
   "metadata": {},
   "outputs": [],
   "source": [
    "# Data Preparation : Response and Feature seperation\n",
    "# iloc and loc\n",
    "\n",
    "# Imputation : Replaces missing values with estimates of their values\n",
    "inputs, targets = df.iloc[:, 0:2], df.iloc[:,2]\n",
    "inputs = pd.get_dummies(inputs, dummy_na=True) # We got the dummies of NaN\n",
    "inputs\n",
    "\n",
    "# Filling the missing values\n",
    "inputs = inputs.fillna(inputs.mean()) # Mean / Mode / Median"
   ]
  },
  {
   "cell_type": "code",
   "execution_count": 73,
   "id": "eb4bb952",
   "metadata": {},
   "outputs": [
    {
     "name": "stdout",
     "output_type": "stream",
     "text": [
      "X : tensor([[3., 0., 1.],\n",
      "        [2., 0., 1.],\n",
      "        [4., 1., 0.],\n",
      "        [3., 0., 1.]], dtype=torch.float64)\n",
      "Y : tensor([127500., 106000., 178100., 140000.], dtype=torch.float64)\n"
     ]
    }
   ],
   "source": [
    "# Conversion : pandas -> numpy -> tensors\n",
    "x = torch.tensor(inputs.to_numpy(dtype=float))\n",
    "y = torch.tensor(targets.to_numpy(dtype=float))\n",
    "print(f\"X : {x}\")\n",
    "print(f\"Y : {y}\")"
   ]
  },
  {
   "cell_type": "markdown",
   "id": "e85a00ca",
   "metadata": {},
   "source": [
    "Complexities : \n",
    "1. Gathering Data from mulitple sources\n",
    "2. Myraid of data types beyond categorical and numerical : Text, Image, Audio\n",
    "3. Real World : \n",
    "   1. Outliers + Faulty measurements & recording errors"
   ]
  },
  {
   "cell_type": "markdown",
   "id": "1403939f",
   "metadata": {},
   "source": [
    "#### Exercises"
   ]
  },
  {
   "cell_type": "code",
   "execution_count": 86,
   "id": "5a3f2e86",
   "metadata": {},
   "outputs": [
    {
     "data": {
      "text/html": [
       "<div>\n",
       "<style scoped>\n",
       "    .dataframe tbody tr th:only-of-type {\n",
       "        vertical-align: middle;\n",
       "    }\n",
       "\n",
       "    .dataframe tbody tr th {\n",
       "        vertical-align: top;\n",
       "    }\n",
       "\n",
       "    .dataframe thead th {\n",
       "        text-align: right;\n",
       "    }\n",
       "</style>\n",
       "<table border=\"1\" class=\"dataframe\">\n",
       "  <thead>\n",
       "    <tr style=\"text-align: right;\">\n",
       "      <th></th>\n",
       "      <th>age</th>\n",
       "      <th>balance</th>\n",
       "      <th>day</th>\n",
       "      <th>duration</th>\n",
       "      <th>campaign</th>\n",
       "      <th>pdays</th>\n",
       "      <th>previous</th>\n",
       "    </tr>\n",
       "  </thead>\n",
       "  <tbody>\n",
       "    <tr>\n",
       "      <th>count</th>\n",
       "      <td>45211.000000</td>\n",
       "      <td>45211.000000</td>\n",
       "      <td>45211.000000</td>\n",
       "      <td>45211.000000</td>\n",
       "      <td>45211.000000</td>\n",
       "      <td>45211.000000</td>\n",
       "      <td>45211.000000</td>\n",
       "    </tr>\n",
       "    <tr>\n",
       "      <th>mean</th>\n",
       "      <td>40.936210</td>\n",
       "      <td>1362.272058</td>\n",
       "      <td>15.806419</td>\n",
       "      <td>258.163080</td>\n",
       "      <td>2.763841</td>\n",
       "      <td>40.197828</td>\n",
       "      <td>0.580323</td>\n",
       "    </tr>\n",
       "    <tr>\n",
       "      <th>std</th>\n",
       "      <td>10.618762</td>\n",
       "      <td>3044.765829</td>\n",
       "      <td>8.322476</td>\n",
       "      <td>257.527812</td>\n",
       "      <td>3.098021</td>\n",
       "      <td>100.128746</td>\n",
       "      <td>2.303441</td>\n",
       "    </tr>\n",
       "    <tr>\n",
       "      <th>min</th>\n",
       "      <td>18.000000</td>\n",
       "      <td>-8019.000000</td>\n",
       "      <td>1.000000</td>\n",
       "      <td>0.000000</td>\n",
       "      <td>1.000000</td>\n",
       "      <td>-1.000000</td>\n",
       "      <td>0.000000</td>\n",
       "    </tr>\n",
       "    <tr>\n",
       "      <th>25%</th>\n",
       "      <td>33.000000</td>\n",
       "      <td>72.000000</td>\n",
       "      <td>8.000000</td>\n",
       "      <td>103.000000</td>\n",
       "      <td>1.000000</td>\n",
       "      <td>-1.000000</td>\n",
       "      <td>0.000000</td>\n",
       "    </tr>\n",
       "    <tr>\n",
       "      <th>50%</th>\n",
       "      <td>39.000000</td>\n",
       "      <td>448.000000</td>\n",
       "      <td>16.000000</td>\n",
       "      <td>180.000000</td>\n",
       "      <td>2.000000</td>\n",
       "      <td>-1.000000</td>\n",
       "      <td>0.000000</td>\n",
       "    </tr>\n",
       "    <tr>\n",
       "      <th>75%</th>\n",
       "      <td>48.000000</td>\n",
       "      <td>1428.000000</td>\n",
       "      <td>21.000000</td>\n",
       "      <td>319.000000</td>\n",
       "      <td>3.000000</td>\n",
       "      <td>-1.000000</td>\n",
       "      <td>0.000000</td>\n",
       "    </tr>\n",
       "    <tr>\n",
       "      <th>max</th>\n",
       "      <td>95.000000</td>\n",
       "      <td>102127.000000</td>\n",
       "      <td>31.000000</td>\n",
       "      <td>4918.000000</td>\n",
       "      <td>63.000000</td>\n",
       "      <td>871.000000</td>\n",
       "      <td>275.000000</td>\n",
       "    </tr>\n",
       "  </tbody>\n",
       "</table>\n",
       "</div>"
      ],
      "text/plain": [
       "                age        balance           day      duration      campaign  \\\n",
       "count  45211.000000   45211.000000  45211.000000  45211.000000  45211.000000   \n",
       "mean      40.936210    1362.272058     15.806419    258.163080      2.763841   \n",
       "std       10.618762    3044.765829      8.322476    257.527812      3.098021   \n",
       "min       18.000000   -8019.000000      1.000000      0.000000      1.000000   \n",
       "25%       33.000000      72.000000      8.000000    103.000000      1.000000   \n",
       "50%       39.000000     448.000000     16.000000    180.000000      2.000000   \n",
       "75%       48.000000    1428.000000     21.000000    319.000000      3.000000   \n",
       "max       95.000000  102127.000000     31.000000   4918.000000     63.000000   \n",
       "\n",
       "              pdays      previous  \n",
       "count  45211.000000  45211.000000  \n",
       "mean      40.197828      0.580323  \n",
       "std      100.128746      2.303441  \n",
       "min       -1.000000      0.000000  \n",
       "25%       -1.000000      0.000000  \n",
       "50%       -1.000000      0.000000  \n",
       "75%       -1.000000      0.000000  \n",
       "max      871.000000    275.000000  "
      ]
     },
     "execution_count": 86,
     "metadata": {},
     "output_type": "execute_result"
    }
   ],
   "source": [
    "# UCI Has a lot of datasets\n",
    "\n",
    "data = pd.read_csv(\"/Users/krishuagarwal/Desktop/Programming/python/deep-learning/notebook/bank-full.csv\",  sep=';', quotechar='\"')\n",
    "data.head()\n",
    "\n",
    "data.describe()"
   ]
  },
  {
   "cell_type": "code",
   "execution_count": 91,
   "id": "a93e30c6",
   "metadata": {},
   "outputs": [
    {
     "data": {
      "text/plain": [
       "(       age           job   marital  education default  balance\n",
       " 0       58    management   married   tertiary      no     2143\n",
       " 1       44    technician    single  secondary      no       29\n",
       " 2       33  entrepreneur   married  secondary      no        2\n",
       " 3       47   blue-collar   married    unknown      no     1506\n",
       " 4       33       unknown    single    unknown      no        1\n",
       " ...    ...           ...       ...        ...     ...      ...\n",
       " 45206   51    technician   married   tertiary      no      825\n",
       " 45207   71       retired  divorced    primary      no     1729\n",
       " 45208   72       retired   married  secondary      no     5715\n",
       " 45209   57   blue-collar   married  secondary      no      668\n",
       " 45210   37  entrepreneur   married  secondary      no     2971\n",
       " \n",
       " [45211 rows x 6 columns],\n",
       " Index(['age', 'job', 'marital', 'education', 'default', 'balance', 'housing',\n",
       "        'loan', 'contact', 'day', 'month', 'duration', 'campaign', 'pdays',\n",
       "        'previous', 'poutcome', 'y'],\n",
       "       dtype='object'))"
      ]
     },
     "execution_count": 91,
     "metadata": {},
     "output_type": "execute_result"
    }
   ],
   "source": [
    "data.isna().sum() # Check for missing values\n",
    "# No Missing values\n",
    "\n",
    "# Indexing\n",
    "data.loc[:, \"age\" : \"balance\"] , data.columns\n",
    "\n",
    "# For large databases we can load them in chunks or use dask / fire\n",
    "# Large categories : We will use category encodings?\n",
    "# Alternatives : Parallel Processing, Chunking "
   ]
  }
 ],
 "metadata": {
  "kernelspec": {
   "display_name": "deepl-scratch",
   "language": "python",
   "name": "python3"
  },
  "language_info": {
   "codemirror_mode": {
    "name": "ipython",
    "version": 3
   },
   "file_extension": ".py",
   "mimetype": "text/x-python",
   "name": "python",
   "nbconvert_exporter": "python",
   "pygments_lexer": "ipython3",
   "version": "3.11.6"
  }
 },
 "nbformat": 4,
 "nbformat_minor": 5
}
