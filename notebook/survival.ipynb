{
 "cells": [
  {
   "cell_type": "markdown",
   "id": "6f25b35c",
   "metadata": {},
   "source": [
    "## Tensors\n",
    "\n",
    "High level abstractions for the data.\n",
    "\n",
    "Deep learning is basically a lot of mathematics."
   ]
  },
  {
   "cell_type": "code",
   "execution_count": 2,
   "id": "25af3f2c",
   "metadata": {},
   "outputs": [],
   "source": [
    "import torch"
   ]
  },
  {
   "cell_type": "code",
   "execution_count": 3,
   "id": "26fb64a2",
   "metadata": {},
   "outputs": [],
   "source": [
    "# activation function\n",
    "\n",
    "def sigmoid(x) : \n",
    "    return 1 / (1 + torch.exp(-x))\n"
   ]
  },
  {
   "cell_type": "markdown",
   "id": "60f80077",
   "metadata": {},
   "source": [
    "### Matrix Multiplication\n",
    "\n",
    "$$\n",
    "\\begin{align}\n",
    "y &= f(w_1 x_1 + w_2 x_2 + b) \\\\\n",
    "y &= f\\left(\\sum_i w_i x_i +b \\right)\n",
    "\\end{align}\n",
    "$$\n",
    "\n",
    "With vectors this is the dot/inner product of two vectors:\n",
    "\n",
    "$$\n",
    "h = \\begin{bmatrix}\n",
    "x_1 \\, x_2 \\cdots  x_n\n",
    "\\end{bmatrix}\n",
    "\\cdot \n",
    "\\begin{bmatrix}\n",
    "           w_1 \\\\\n",
    "           w_2 \\\\\n",
    "           \\vdots \\\\\n",
    "           w_n\n",
    "\\end{bmatrix}\n",
    "$$\n",
    "\n",
    "Here we see that features are Row matrix and the weights are the column matrix. "
   ]
  },
  {
   "cell_type": "code",
   "execution_count": 4,
   "id": "3bb68197",
   "metadata": {},
   "outputs": [
    {
     "data": {
      "text/plain": [
       "tensor([[0.1595]])"
      ]
     },
     "execution_count": 4,
     "metadata": {},
     "output_type": "execute_result"
    }
   ],
   "source": [
    "# generate some data\n",
    "torch.manual_seed(7)\n",
    "\n",
    "\n",
    "features = torch.randn((1,5)) # tensor of shape (1,5)\n",
    "weights = torch.randn_like(features) # tensor of shape (1,5)\n",
    "bias = torch.randn((1,1)) # tensor of shape (1,1)\n",
    "\n",
    "# compute the output : featurs @ weights.T + bias\n",
    "\n",
    "output = sigmoid(features @ weights.T + bias) \n",
    "output"
   ]
  },
  {
   "cell_type": "markdown",
   "id": "bd832172",
   "metadata": {},
   "source": [
    "### Functions for reshaping\n",
    "1. `weights.reshape(a,b)`\n",
    "2. `weights.view(a,b)`\n",
    "3. `torch.transpose(weights, 0, 1)`\n",
    "\n",
    "\n",
    "Matrix multiplication was simple, but the power comes when you _stack_ layers upon layers, because using the universal function of generalization -> This can converge to anything.\n",
    "\n",
    "#### Some Maths\n",
    "Inputs : $x_1, x_2, x_3$\n",
    "Layer1 : $h_1, h_2$\n",
    "Layer2 : $m_1, m_2$\n",
    "Output : $y_1$\n",
    "\n",
    "$h_i = a(\\sum_i(w_i*x_i) + b_1)$\n",
    "\n",
    "$m_i = a(\\sum_i(w_i*h_i) + b_2)$\n",
    "\n",
    "$y_1 = \\sum_i(w_i*m_i) + b_3$\n",
    "\n",
    "Basically like $y_1 = \\sum_i(w_i*a(\\sum_i(w_i*a(\\sum_i(w_i*x_i) + b_1)) + b_2)) + b_3$\n"
   ]
  },
  {
   "cell_type": "code",
   "execution_count": null,
   "id": "49a1185d",
   "metadata": {},
   "outputs": [
    {
     "data": {
      "text/plain": [
       "tensor([[0.3531]])"
      ]
     },
     "execution_count": 37,
     "metadata": {},
     "output_type": "execute_result"
    }
   ],
   "source": [
    "# Generate some data\n",
    "torch.manual_seed(7)\n",
    "\n",
    "features = torch.randn((1,3)) # tensor of shape (1,5)\n",
    "n_input = features.shape[1] # 5\n",
    "n_hidden_1 = 2\n",
    "n_hidden_2 = 4\n",
    "n_hidden_3 = 5\n",
    "n_output = 1\n",
    "\n",
    "# Initialize weights and biases\n",
    "W1 = torch.randn((n_input, n_hidden_1)) # (input, output)\n",
    "W2 = torch.randn((n_hidden_1, n_hidden_2)) # (input, output)\n",
    "W3 = torch.randn((n_hidden_2, n_hidden_3)) # (input, output)\n",
    "W4 = torch.randn((n_hidden_3, n_output)) # (input, output)\n",
    "\n",
    "B1 = torch.randn((1, n_hidden_1))\n",
    "B2 = torch.randn((1, n_hidden_2))\n",
    "B3 = torch.randn((1, n_hidden_3))\n",
    "B4 = torch.randn((1,n_output))\n",
    "\n",
    "# Compute the output -> Works Error less\n",
    "hidden_1 = sigmoid(features @ W1 + B1)\n",
    "hidden_2 = sigmoid(hidden_1 @ W2 + B2)\n",
    "hidden_3 = sigmoid(hidden_2 @ W3 + B3)\n",
    "output = sigmoid(hidden_3 @ W4 + B4)\n",
    "output \n"
   ]
  },
  {
   "cell_type": "markdown",
   "id": "4d3e4571",
   "metadata": {},
   "source": [
    "Cracked it. We need to structure the matrix not row wise like $h_i = \\sum_i(w_i * x_i)$ where $x_i$ are the columns, what we should do instead is basically get then column wise because then it becomes easier to structure. \n",
    "\n",
    "As in it becomes `(input, output)` to the particular layer, as evident in the previous layers.\n",
    "\n",
    "#### Torch to Numpy\n",
    "- `torch.from_numpy(a)` : from numpy\n",
    "- `b.numpy` : to numpy\n",
    "\n",
    "As you do this the memory becomes shared, suppose a = b.numpy(), any changes to b will lead changes to a, if you use `mul_`"
   ]
  },
  {
   "cell_type": "code",
   "execution_count": null,
   "id": "62a8273c",
   "metadata": {},
   "outputs": [
    {
     "data": {
      "text/plain": [
       "(tensor([[ 0.1136, -1.6290,  2.3224, -1.1735],\n",
       "         [-1.8027, -1.4376,  3.1409,  3.8296],\n",
       "         [-1.2328, -3.1539, -0.1999,  1.2358]], dtype=torch.float64),\n",
       " array([[ 0.11362891, -1.62900852,  2.3224199 , -1.17347142],\n",
       "        [-1.80272793, -1.43758963,  3.14086002,  3.82958067],\n",
       "        [-1.23280653, -3.1539243 , -0.19990785,  1.23580273]]))"
      ]
     },
     "execution_count": 47,
     "metadata": {},
     "output_type": "execute_result"
    }
   ],
   "source": [
    "import numpy as np\n",
    "\n",
    "a = np.random.randn(3,4)\n",
    "b = torch.from_numpy(a)\n"
   ]
  },
  {
   "cell_type": "markdown",
   "id": "8df2a2f9",
   "metadata": {},
   "source": [
    "## Neural Networks with Pytorch\n",
    "\n",
    "Growing the network is going to be cumbersome as you could see 10-12 layers, definetly a lot cumbersome. So we will use `torch.nn` -> which could help us"
   ]
  },
  {
   "cell_type": "code",
   "execution_count": 61,
   "id": "0f7b0a2c",
   "metadata": {},
   "outputs": [],
   "source": [
    "%matplotlib inline\n",
    "%config InlineBackend.figure_format = \"retina\"\n",
    "\n",
    "import helper\n",
    "import matplotlib.pyplot as plt\n",
    "from torchvision import datasets, transforms\n",
    "import torch\n",
    "import numpy as np"
   ]
  },
  {
   "cell_type": "code",
   "execution_count": 54,
   "id": "53cdde45",
   "metadata": {},
   "outputs": [
    {
     "name": "stdout",
     "output_type": "stream",
     "text": [
      "Downloading http://yann.lecun.com/exdb/mnist/train-images-idx3-ubyte.gz\n",
      "Failed to download (trying next):\n",
      "HTTP Error 404: Not Found\n",
      "\n",
      "Downloading https://ossci-datasets.s3.amazonaws.com/mnist/train-images-idx3-ubyte.gz\n",
      "Downloading https://ossci-datasets.s3.amazonaws.com/mnist/train-images-idx3-ubyte.gz to /Users/krishuagarwal/MNIST_data/MNIST/raw/train-images-idx3-ubyte.gz\n"
     ]
    },
    {
     "name": "stderr",
     "output_type": "stream",
     "text": [
      "100.0%\n"
     ]
    },
    {
     "name": "stdout",
     "output_type": "stream",
     "text": [
      "Extracting /Users/krishuagarwal/MNIST_data/MNIST/raw/train-images-idx3-ubyte.gz to /Users/krishuagarwal/MNIST_data/MNIST/raw\n",
      "\n",
      "Downloading http://yann.lecun.com/exdb/mnist/train-labels-idx1-ubyte.gz\n",
      "Failed to download (trying next):\n",
      "HTTP Error 404: Not Found\n",
      "\n",
      "Downloading https://ossci-datasets.s3.amazonaws.com/mnist/train-labels-idx1-ubyte.gz\n",
      "Downloading https://ossci-datasets.s3.amazonaws.com/mnist/train-labels-idx1-ubyte.gz to /Users/krishuagarwal/MNIST_data/MNIST/raw/train-labels-idx1-ubyte.gz\n"
     ]
    },
    {
     "name": "stderr",
     "output_type": "stream",
     "text": [
      "100.0%\n"
     ]
    },
    {
     "name": "stdout",
     "output_type": "stream",
     "text": [
      "Extracting /Users/krishuagarwal/MNIST_data/MNIST/raw/train-labels-idx1-ubyte.gz to /Users/krishuagarwal/MNIST_data/MNIST/raw\n",
      "\n",
      "Downloading http://yann.lecun.com/exdb/mnist/t10k-images-idx3-ubyte.gz\n",
      "Failed to download (trying next):\n",
      "HTTP Error 404: Not Found\n",
      "\n",
      "Downloading https://ossci-datasets.s3.amazonaws.com/mnist/t10k-images-idx3-ubyte.gz\n",
      "Downloading https://ossci-datasets.s3.amazonaws.com/mnist/t10k-images-idx3-ubyte.gz to /Users/krishuagarwal/MNIST_data/MNIST/raw/t10k-images-idx3-ubyte.gz\n"
     ]
    },
    {
     "name": "stderr",
     "output_type": "stream",
     "text": [
      "100.0%\n"
     ]
    },
    {
     "name": "stdout",
     "output_type": "stream",
     "text": [
      "Extracting /Users/krishuagarwal/MNIST_data/MNIST/raw/t10k-images-idx3-ubyte.gz to /Users/krishuagarwal/MNIST_data/MNIST/raw\n",
      "\n",
      "Downloading http://yann.lecun.com/exdb/mnist/t10k-labels-idx1-ubyte.gz\n",
      "Failed to download (trying next):\n",
      "HTTP Error 404: Not Found\n",
      "\n",
      "Downloading https://ossci-datasets.s3.amazonaws.com/mnist/t10k-labels-idx1-ubyte.gz\n",
      "Downloading https://ossci-datasets.s3.amazonaws.com/mnist/t10k-labels-idx1-ubyte.gz to /Users/krishuagarwal/MNIST_data/MNIST/raw/t10k-labels-idx1-ubyte.gz\n"
     ]
    },
    {
     "name": "stderr",
     "output_type": "stream",
     "text": [
      "100.0%"
     ]
    },
    {
     "name": "stdout",
     "output_type": "stream",
     "text": [
      "Extracting /Users/krishuagarwal/MNIST_data/MNIST/raw/t10k-labels-idx1-ubyte.gz to /Users/krishuagarwal/MNIST_data/MNIST/raw\n",
      "\n"
     ]
    },
    {
     "name": "stderr",
     "output_type": "stream",
     "text": [
      "\n"
     ]
    }
   ],
   "source": [
    "import torch.utils\n",
    "\n",
    "\n",
    "transform = transforms.Compose([\n",
    "    transforms.ToTensor(),\n",
    "    transforms.Normalize((0.5, ), (0.5,))\n",
    "])\n",
    "\n",
    "# Download dataset\n",
    "trainset = datasets.MNIST(\"~/MNIST_data\",download=True, train=True, transform=transform)\n",
    "trainLoader = torch.utils.data.DataLoader(trainset, batch_size=64, shuffle = True)"
   ]
  },
  {
   "cell_type": "code",
   "execution_count": 75,
   "id": "80a379fe",
   "metadata": {},
   "outputs": [
    {
     "name": "stdout",
     "output_type": "stream",
     "text": [
      "<class 'torch.Tensor'>\n",
      "torch.Size([64, 1, 28, 28])\n",
      "torch.Size([64])\n"
     ]
    }
   ],
   "source": [
    "dataiter = iter(trainLoader)\n",
    "images, labels = next(dataiter)\n",
    "print(type(images))\n",
    "print(images.shape)\n",
    "print(labels.shape)"
   ]
  },
  {
   "cell_type": "code",
   "execution_count": 86,
   "id": "12521e11",
   "metadata": {},
   "outputs": [
    {
     "data": {
      "image/png": "[encoded data removed]",
      "text/plain": [
       "<Figure size 640x480 with 1 Axes>"
      ]
     },
     "metadata": {
      "image/png": {
       "height": 413,
       "width": 417
      }
     },
     "output_type": "display_data"
    }
   ],
   "source": [
    "plt.imshow(images[1].numpy().squeeze(), cmap = \"Greys_r\")\n",
    "plt.show()"
   ]
  },
  {
   "cell_type": "markdown",
   "id": "9eef9c36",
   "metadata": {},
   "source": [
    "Fully connected networks, takes your every input for their output, so a grid like 28*28 must be translated into 784. Considering the batch as well the input is going to be 64 * 784"
   ]
  },
  {
   "cell_type": "code",
   "execution_count": 159,
   "id": "7a24a384",
   "metadata": {},
   "outputs": [],
   "source": [
    "# Network\n",
    "\n",
    "def activation(x) : \n",
    "    \"\"\"Sigmoid Activation\"\"\"\n",
    "\n",
    "    return 1/(1+torch.exp(-x))\n",
    "\n",
    "def multilayer_net(n_inputs, n_hidden, n_output) : \n",
    "    torch.manual_seed(7)\n",
    "\n",
    "    # weights and biases\n",
    "    W1 = torch.randn(n_inputs, n_hidden) # 784 * 256\n",
    "    W2 = torch.randn(n_hidden, n_output) # 256 * 10\n",
    "    B1 = torch.randn((1, n_hidden)) # 1 * 256\n",
    "    B2 = torch.randn((1, n_output)) # 1 * 10\n",
    "\n",
    "    return W1, W2, B1, B2\n",
    "\n",
    "def output(features, w1, w2, b1, b2) : \n",
    "    h = activation(features @ w1 + b1) # (64, 784) * (784 * 256)\n",
    "    return activation(h @ w2 + b2) # (64 * 256) * (256 * 10)\n",
    "\n",
    "# Working\n",
    "features = torch.flatten(images, start_dim = 1) # Flattens 3 Dimensions\n",
    "w1, w2, b1, b2 = multilayer_net(features.shape[1], 256, 10 )\n",
    "\n",
    "out = output(features, w1, w2, b1, b2)\n",
    "nums_out = torch.arange(0,10)\n",
    "\n",
    "# Futile efforts of plotting\n",
    "# figure, ax = plt.subplots(1, 2, figsize = (4, 8))\n",
    "# ax[0].imshow(images[1, :, :, :].numpy().squeeze(), cmap = \"Greys_r\")\n",
    "# digit_labels = range(10)  # 0-9 digits\n",
    "# ax[1].bar(out[1, :], digit_labels)\n",
    "# plt.show()"
   ]
  },
  {
   "cell_type": "markdown",
   "id": "787324a7",
   "metadata": {},
   "source": [
    "Random intialization doesn't guarantee that our networks will predict well, they need to be trained right. We will not calculate the probability for each of the numbers occuring using softmax\n",
    "\n",
    "$\\sigma_(x_i) = \\frac{\\exp_(x_i)}{\\sum_k{\\exp_(x_k)}}$"
   ]
  },
  {
   "cell_type": "code",
   "execution_count": null,
   "id": "29942de1",
   "metadata": {},
   "outputs": [
    {
     "data": {
      "text/plain": [
       "Network(\n",
       "  (hidden): Linear(in_features=784, out_features=256, bias=True)\n",
       "  (output): Linear(in_features=256, out_features=10, bias=True)\n",
       "  (sigmoid): Sigmoid()\n",
       "  (softmax): Softmax(dim=1)\n",
       ")"
      ]
     },
     "execution_count": 202,
     "metadata": {},
     "output_type": "execute_result"
    }
   ],
   "source": [
    "from torch import nn\n",
    "from torch.nn.functional import sigmoid, softmax # Robust implementation\n",
    "\n",
    "def softmax(x) : \n",
    "    x_exp = torch.exp(x)\n",
    "    return x_exp / torch.sum(x_exp, dim = 1, keepdim=True)\n",
    "    \n",
    "class Network(nn.Module) : \n",
    "    def __init__(self, num_input, num_output, num_hidden) : \n",
    "        super().__init__()\n",
    "        self.hidden = nn.Linear(num_input, num_hidden) # Linear Transformation\n",
    "        self.output = nn.Linear(num_hidden, num_output) # Linear Transformation\n",
    "       # self.sigmoid = nn.Sigmoid() # Sigmoid Function\n",
    "       # self.softmax = nn.Softmax(dim = 1) # Softmax\n",
    "\n",
    "    def forward(self, x) : # Must have a forward method defined.\n",
    "        \"\"\"Forward Pass\"\"\"\n",
    "\n",
    "        x = self.hidden(x)\n",
    "        # x = self.sigmoid(x)\n",
    "        x = sigmoid(x)\n",
    "        x = self.output(x)\n",
    "        # return self.softmax(x)\n",
    "        return softmax(x)\n",
    "\n",
    "\n",
    "net = Network(784, 10, 256)\n",
    "out = net.forward(features)\n",
    "net"
   ]
  },
  {
   "cell_type": "markdown",
   "id": "49bc0432",
   "metadata": {},
   "source": [
    "You can get the weights and bias via : \n",
    "- `nn.Linear(input, output)` has attributes weight and bias\n",
    "  - `fc1 = nn.Linear(input, output)`, we can access `fc1.weight` & `fc1.bias`\n",
    "\n",
    "\n",
    "Good for our person initialization -> Xavier initialization"
   ]
  }
 ],
 "metadata": {
  "kernelspec": {
   "display_name": "deepl-scratch",
   "language": "python",
   "name": "python3"
  },
  "language_info": {
   "codemirror_mode": {
    "name": "ipython",
    "version": 3
   },
   "file_extension": ".py",
   "mimetype": "text/x-python",
   "name": "python",
   "nbconvert_exporter": "python",
   "pygments_lexer": "ipython3",
   "version": "3.11.6"
  }
 },
 "nbformat": 4,
 "nbformat_minor": 5
}
